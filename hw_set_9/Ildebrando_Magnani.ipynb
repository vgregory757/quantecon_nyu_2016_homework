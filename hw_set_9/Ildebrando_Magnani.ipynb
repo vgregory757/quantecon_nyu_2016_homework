{
 "cells": [
  {
   "cell_type": "markdown",
   "metadata": {
    "collapsed": true
   },
   "source": [
    "## ILDEBRANDO MAGNANI\n",
    "\n",
    "im975\n",
    "\n",
    "Homework 9:"
   ]
  },
  {
   "cell_type": "markdown",
   "metadata": {},
   "source": [
    "## Excercise 6:"
   ]
  },
  {
   "cell_type": "code",
   "execution_count": 44,
   "metadata": {
    "collapsed": true
   },
   "outputs": [],
   "source": [
    "% matplotlib inline\n",
    "import numpy as np\n",
    "import numpy.linalg as ln\n",
    "import matplotlib.pyplot as plt\n",
    "import quantecon as qe"
   ]
  },
  {
   "cell_type": "code",
   "execution_count": 36,
   "metadata": {
    "collapsed": false
   },
   "outputs": [],
   "source": [
    "A = np.array([[ 0.8, -0.1],\n",
    "              [-0.1,  0.8]])\n",
    "\n",
    "C= np.identity(2)\n",
    "\n",
    "D = np.identity(2)"
   ]
  },
  {
   "cell_type": "code",
   "execution_count": 37,
   "metadata": {
    "collapsed": true
   },
   "outputs": [],
   "source": [
    "def spec_radius(A):\n",
    "    a, b = ln.eig(A)\n",
    "    rho = np.amax(np.abs(a))\n",
    "    return rho"
   ]
  },
  {
   "cell_type": "code",
   "execution_count": 38,
   "metadata": {
    "collapsed": false
   },
   "outputs": [],
   "source": [
    "def LQ_price(A, D, C, Initial_P, beta, tol, maxit):\n",
    "    stability = 1 / np.sqrt(beta)\n",
    "    if spec_radius(A) > stability:\n",
    "        print(\"The stability condition is not met\")\n",
    "    else:\n",
    "        P = Initial_P\n",
    "        for i in range(maxit):\n",
    "            P_new = beta * np.transpose(A) @ (D + P) @ A\n",
    "            diff = P_new - P\n",
    "            spectral_distance = np.sqrt(spec_radius(diff))\n",
    "            P = P_new\n",
    "            if spectral_distance <= tol:\n",
    "                maxit = i\n",
    "                break\n",
    "        print(\"Number of Iterations to compute the Price Function:\", maxit)\n",
    "            \n",
    "    delta = (beta / 1 - beta) * np.trace(np.transpose(C) @ (D + P_new) @ C)\n",
    "    \n",
    "    return P_new, delta"
   ]
  },
  {
   "cell_type": "code",
   "execution_count": 39,
   "metadata": {
    "collapsed": false
   },
   "outputs": [
    {
     "name": "stdout",
     "output_type": "stream",
     "text": [
      "Number of Iterations to compute the Price Function: 113\n",
      "Price_matrix:\n",
      "[[ 1.73947283 -0.95056407]\n",
      " [-0.95056407  1.73947283]]\n"
     ]
    }
   ],
   "source": [
    "Initial_P = np.identity(len(A))\n",
    "tol = 10**(-8)\n",
    "maxiteration = 10000\n",
    "beta = 0.9\n",
    "\n",
    "Price_matrix, Delta_star = LQ_price(A, D, C, Initial_P, beta, tol, maxiteration)\n",
    "print(\"Price_matrix:\")\n",
    "print(Price_matrix)"
   ]
  },
  {
   "cell_type": "code",
   "execution_count": 40,
   "metadata": {
    "collapsed": false
   },
   "outputs": [],
   "source": [
    "def price_fun(x, Price_matrix, Delta):\n",
    "    return np.transpose(x) @ Price_matrix @ x + Delta"
   ]
  },
  {
   "cell_type": "code",
   "execution_count": 69,
   "metadata": {
    "collapsed": false
   },
   "outputs": [
    {
     "name": "stdout",
     "output_type": "stream",
     "text": [
      "Number of Iterations to compute the Price Function: 113\n"
     ]
    },
    {
     "data": {
      "image/png": "[encoded data removed]",
      "text/plain": [
       "<matplotlib.figure.Figure at 0x7f2dc88c37f0>"
      ]
     },
     "metadata": {},
     "output_type": "display_data"
    }
   ],
   "source": [
    "N = 200\n",
    "grid = np.linspace(-20, 20, N)\n",
    "x = np.zeros((2,1))\n",
    "X, Y = np.meshgrid(grid, grid)\n",
    "Price_val = np.zeros((N, N))\n",
    "Price_matrix, Delta = LQ_price(A, D, C, Initial_P, beta, tol, maxiteration)\n",
    "\n",
    "for k in range(N):\n",
    "    for j in range(N):\n",
    "        x[0] = grid[k]\n",
    "        x[1] = grid[j]\n",
    "        Price_val[k, j] = price_fun(x, Price_matrix, Delta)\n",
    "\n",
    "CS = plt.contourf(X, Y, Price_val, alpha=0.7)\n",
    "plt.clabel(CS, inline=1, fontsize=10, colors='black')\n",
    "plt.title('Price Function Contours Plot')\n",
    "plt.show()\n"
   ]
  },
  {
   "cell_type": "code",
   "execution_count": null,
   "metadata": {
    "collapsed": true
   },
   "outputs": [],
   "source": []
  }
 ],
 "metadata": {
  "kernelspec": {
   "display_name": "Python 3",
   "language": "python",
   "name": "python3"
  },
  "language_info": {
   "codemirror_mode": {
    "name": "ipython",
    "version": 3
   },
   "file_extension": ".py",
   "mimetype": "text/x-python",
   "name": "python",
   "nbconvert_exporter": "python",
   "pygments_lexer": "ipython3",
   "version": "3.5.1"
  }
 },
 "nbformat": 4,
 "nbformat_minor": 0
}
