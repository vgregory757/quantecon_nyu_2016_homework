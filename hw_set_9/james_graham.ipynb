{
 "cells": [
  {
   "cell_type": "markdown",
   "metadata": {},
   "source": [
    "# Homework Set 9\n",
    "\n",
    "### James Graham\n",
    "\n",
    "## Exercise 6\n",
    "\n",
    "The solution of the LQ asset pricing problem is a $\\mathbf{P^*}$, $\\delta^*$ which statisfy:\n",
    "\n",
    "$$\\mathbf{P^*} = \\beta \\mathbf{A'(D + P^*)A}$$\n",
    "$$\\delta^* = \\frac{\\beta}{1-\\beta} \\text{trace}(\\mathbf{C' (D + P^*) C})$$\n",
    "\n",
    "The solution exists as long as $\\mathbf{A}$ satisfies the stability condition:\n",
    "$$ \\rho(\\mathbf{A}) < \\frac{1}{\\sqrt{\\beta}} $$\n",
    "\n",
    "The following function checks the stability condition, and if it holds, it solves the problem by finding $\\mathbf{P^*}$ using an iterative method."
   ]
  },
  {
   "cell_type": "code",
   "execution_count": 1,
   "metadata": {
    "collapsed": false
   },
   "outputs": [],
   "source": [
    "import numpy as np\n",
    "from numpy.linalg import eig\n",
    "import quantecon as qe\n",
    "import matplotlib.pyplot as plt\n",
    "\n",
    "\n",
    "def compute_price(A,C,D,beta, tol):\n",
    "    ''' \n",
    "    This function computes the price as a fixed point of the \n",
    "    asset pricing problem P = beta*A'(D+P)A using iterative methods\n",
    "    INPUTS\n",
    "    - A          = \n",
    "    - C          =\n",
    "    - D          = \n",
    "    - beta       = Discount factor\n",
    "    - tol        = Iterative procedure tolerance\n",
    "    OUTPUTS\n",
    "    - P_star     = Fixed point solution to the asset pricing problem\n",
    "    - delta_star = \n",
    "    '''\n",
    "    # check stability condition\n",
    "    eigval, eigvec = eig(A)\n",
    "    rho_A = np.max(np.absolute(eigval))\n",
    "    \n",
    "    # if condition is satisfied, compute price function\n",
    "    if rho_A > 1/np.sqrt(beta):\n",
    "        print('Stability condition not satisfied \\n')\n",
    "    else:\n",
    "        n = A.shape[1]\n",
    "        P_guess = np.identity(n)\n",
    "        dist = 1\n",
    "\n",
    "        # find P* iteratively\n",
    "        while dist > tol:\n",
    "            P_new = beta*np.transpose(A)@(D+P_guess)@A\n",
    "            dist = np.sum(np.absolute(P_new - P_guess))\n",
    "            P_guess = P_new\n",
    "\n",
    "        P_star = P_guess\n",
    "\n",
    "        # compute delta*\n",
    "        delta_star = beta/(1-beta)*np.trace(np.transpose(C)@(D + P_star)@C)\n",
    "    \n",
    "    return P_star, delta_star"
   ]
  },
  {
   "cell_type": "markdown",
   "metadata": {},
   "source": [
    "We can now use the function with the matrices described in the problem. "
   ]
  },
  {
   "cell_type": "code",
   "execution_count": 2,
   "metadata": {
    "collapsed": false
   },
   "outputs": [
    {
     "name": "stdout",
     "output_type": "stream",
     "text": [
      "[[ 1.73947283 -0.95056406]\n",
      " [-0.95056406  1.73947283]]\n",
      "49.3105109059\n"
     ]
    }
   ],
   "source": [
    "A = np.array([[0.8, -0.1],[-0.1, 0.8]])\n",
    "C = np.identity(2)\n",
    "D = np.identity(2)\n",
    "beta = 0.9\n",
    "tol  = 1e-8\n",
    "\n",
    "P_star, delta_star = compute_price(A, C, D, beta, tol)\n",
    "\n",
    "print(P_star)\n",
    "print(delta_star)"
   ]
  },
  {
   "cell_type": "markdown",
   "metadata": {},
   "source": [
    "We can also compare the results with QuantEcon, which solves the problem as:\n",
    "\n",
    "$\\mathbf{P = \\Lambda P \\Lambda' + M}$\n",
    "\n",
    "where $\\mathbf{M} = \\beta \\mathbf{A'DA}$ and $\\mathbf{\\Lambda} = \\sqrt{\\beta} \\mathbf{A'}$.\n",
    "\n",
    "We can see below that we get the same answers as with the function we built above. "
   ]
  },
  {
   "cell_type": "code",
   "execution_count": 3,
   "metadata": {
    "collapsed": false
   },
   "outputs": [
    {
     "name": "stdout",
     "output_type": "stream",
     "text": [
      "[[ 1.73947283 -0.95056407]\n",
      " [-0.95056407  1.73947283]]\n"
     ]
    }
   ],
   "source": [
    "M = beta*np.transpose(A)@D@A\n",
    "la = np.sqrt(beta)*np.transpose(A)\n",
    "\n",
    "P_star_qe = qe.solve_discrete_lyapunov(la, M)\n",
    "\n",
    "print(P_star_qe)"
   ]
  },
  {
   "cell_type": "markdown",
   "metadata": {},
   "source": [
    "To compute the price at any point in the state space (an $\\mathbf{x} = (x_1, x_2)$ pair) I use the pricing function:\n",
    "\n",
    "$$p^*(\\mathbf{x}) = \\mathbf{x' P^* x} + \\delta^*$$"
   ]
  },
  {
   "cell_type": "code",
   "execution_count": 4,
   "metadata": {
    "collapsed": false
   },
   "outputs": [
    {
     "name": "stdout",
     "output_type": "stream",
     "text": [
      "(2, 1)\n"
     ]
    }
   ],
   "source": [
    "Ngrids = 100\n",
    "x1 = np.linspace(-10, 10, Ngrids)\n",
    "x2 = np.linspace(-10, 10, Ngrids)\n",
    "px = np.zeros([Ngrids, Ngrids])\n",
    "x = np.empty([2,1]) \n",
    "\n",
    "print(x.shape)\n",
    "for i in range(Ngrids):\n",
    "    for j in range(Ngrids):\n",
    "        x[0] = x1[i]\n",
    "        x[1] = x2[j]\n",
    "        price  = np.transpose(x)@P_star@x + delta_star\n",
    "        px[i,j] = price[0]\n",
    "\n",
    "        \n",
    "\n",
    "        \n",
    "#using PlotlyJS\n",
    "#data = contour(;x=x1, y=x2, z=px, colorscale=\"Jet\")\n",
    "#l = Layout(;title=\"Equilibrium Pricing Function\", xaxis_title=\"x1\", yaxis_title=\"x2\")\n",
    "#p2 = plot(data, l)"
   ]
  },
  {
   "cell_type": "markdown",
   "metadata": {},
   "source": [
    "Finally, I reproduce the contour map below: "
   ]
  },
  {
   "cell_type": "code",
   "execution_count": 26,
   "metadata": {
    "collapsed": false
   },
   "outputs": [
    {
     "data": {
      "image/png": "[encoded data removed]",
      "text/plain": [
       "<matplotlib.figure.Figure at 0xc359198>"
      ]
     },
     "metadata": {},
     "output_type": "display_data"
    }
   ],
   "source": [
    "% matplotlib inline\n",
    "# Note to self: plt.contour = contour lines; plt.contourf = filled contours \n",
    "c = plt.contour(x1,x2,px,colors='k',linewidths=2) \n",
    "plt.clabel(c, inline=1, fontsize=12)\n",
    "c = plt.contourf(x1,x2,px) \n",
    "plt.xlabel(\"$x_1$\")\n",
    "plt.ylabel(\"$x_2$\")\n",
    "plt.show()"
   ]
  },
  {
   "cell_type": "code",
   "execution_count": null,
   "metadata": {
    "collapsed": true
   },
   "outputs": [],
   "source": []
  }
 ],
 "metadata": {
  "kernelspec": {
   "display_name": "Python 3",
   "language": "python",
   "name": "python3"
  },
  "language_info": {
   "codemirror_mode": {
    "name": "ipython",
    "version": 3
   },
   "file_extension": ".py",
   "mimetype": "text/x-python",
   "name": "python",
   "nbconvert_exporter": "python",
   "pygments_lexer": "ipython3",
   "version": "3.5.1"
  }
 },
 "nbformat": 4,
 "nbformat_minor": 0
}
