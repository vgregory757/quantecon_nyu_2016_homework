{
 "cells": [
  {
   "cell_type": "markdown",
   "metadata": {},
   "source": [
    "# Comp Econ Homework 9\n",
    "\n",
    "**Author**: Chase Coleman\n",
    "\n",
    "**Date**: 16 April 2015"
   ]
  },
  {
   "cell_type": "code",
   "execution_count": 1,
   "metadata": {
    "collapsed": true
   },
   "outputs": [],
   "source": [
    "import numpy as np\n",
    "import numpy.linalg as la\n",
    "import matplotlib.pyplot as plt\n",
    "import quantecon as qe\n",
    "\n",
    "%matplotlib inline"
   ]
  },
  {
   "cell_type": "markdown",
   "metadata": {},
   "source": [
    "Submit the following in a single Jupyter notebook with the usual naming convention `firstname_lastname.ipynb`. Alternatively, if it's painful to wrte LaTeX in the ntoebook, then you can add a single file with analytical solutions called `firstname_lastname_analysis.pdf`. Please make sure that you have your name at the top of each file, and that you put your file in the right folder of the homework GitHub repo.\n",
    "\n",
    "As always, you are free to collaborate, and think through algorithms and proof solutions together. Just type up your own version at the end."
   ]
  },
  {
   "cell_type": "markdown",
   "metadata": {},
   "source": [
    "## Exercise 1"
   ]
  },
  {
   "cell_type": "markdown",
   "metadata": {},
   "source": [
    "### Question\n",
    "\n",
    "Prove that for every $A \\in \\mathcal{M}(n \\times n)$ we have $||A|| = \\sqrt{\\rho(A'A)}$."
   ]
  },
  {
   "cell_type": "markdown",
   "metadata": {},
   "source": [
    "### Answer\n",
    "\n",
    "We define the spectral norm by:\n",
    "\n",
    "$$||A|| = \\sup \\{ \\frac{||A x||}{||x||} : x \\in \\mathbb{R}^n \\neq 0 \\}$$\n",
    "\n",
    "In class we showed that, without loss of generality, we can restrict our focus to $x \\in \\mathbb{R}^n$ such that $||x|| = 1$. We use this here to write the spectral norm as\n",
    "\n",
    "$$||A|| = \\sup \\{ ||A x|| : ||x|| = 1 \\}$$\n",
    "\n",
    "Notice that the n-dimensional unit sphere, $||x|| = 1$, is a compact set, so we replace $\\sup$ with $\\max$ because we know that the optimal value is attained. The optimization problem can be written by\n",
    "\n",
    "\\begin{align*}\n",
    "  &\\max_{x} ||A x|| \\\\\n",
    "  &\\text{subject to } ||x|| = 1\n",
    "\\end{align*}\n",
    "\n",
    "We make an order-preserving transformation to solve an algebraically cleaner problem by squaring the objective function (Note: This is only order preserving because the objective is weakly positive). We can also square the constraint because it is equal to 1. The Lagrangian for this transformed problem can be written \n",
    "\n",
    "$$ \\mathcal{L} = x'A'Ax + \\lambda (1 - x'x)$$\n",
    "\n",
    "If we take the derivative with respect to $x$ we get\n",
    "\n",
    "$$A'A x = \\lambda x$$\n",
    "\n",
    "Notice that this implies that $x$ is an eigenvector of $A'A$. The question remains, which eigenvalue this vector corresponds to.\n",
    "\n",
    "Recall that our objective was $x' A' A x$. If we pre-multiply both sides of the previous equation by $x'$, we get\n",
    "\n",
    "$$x' A' A x = x' \\lambda x$$\n",
    "\n",
    "Note that $x' x = 1$ then\n",
    "\n",
    "$$x' A' A x = \\lambda$$\n",
    "\n",
    "It then becomes obvious that we choose the eigenvalue eigenvector pair that achieves the highest eigenvalue. Then for $\\rho(A) := \\max \\{ | \\lambda | : \\lambda \\text{ is an eigenvalue of } A \\}$ the original objective function achieves $\\sqrt{\\rho(A' A)}$ as desired."
   ]
  },
  {
   "cell_type": "markdown",
   "metadata": {},
   "source": [
    "## Exercise 2"
   ]
  },
  {
   "cell_type": "markdown",
   "metadata": {},
   "source": [
    "### Question\n",
    "\n",
    "Making use of Gelfand's formula, show that if $\\rho(A) < 1$,  then $\\sum_{k=0}^\\infty ||A^k|| < \\infty$. In particular, show that under the stated condition there exists an $r < 1$ and a $C \\in \\mathbb{N}$ such that $||A^k|| \\leq r^k C$ for all $k \\in \\mathbb{N}$."
   ]
  },
  {
   "cell_type": "markdown",
   "metadata": {},
   "source": [
    "## Answer\n",
    "\n",
    "Thanks to Balint for pointing me in right direction here.\n",
    "\n",
    "One can show that $\\rho(A) < ||A^k||^{1/k}$. This is indicative to us of how we should pick our value for $r$. Fix $r$ such that $\\rho(A) < r < 1$.\n",
    "\n",
    "Gelfand's formula says\n",
    "\n",
    "$$ \\lim_{k \\rightarrow \\infty} ||A^k||^{1/k} \\rightarrow \\rho(A)$$\n",
    "\n",
    "This means for a fixed $\\varepsilon$ there exists $N_{\\varepsilon}$ such that for all $N > N_{\\varepsilon}$ that $d(\\rho(A), ||A^N||^{1/N}) < \\varepsilon$. This implies that $\\varepsilon = r - \\rho(A)$ that for all $N > N_{\\varepsilon}$ that $r > ||A^N||^{1/N}$.\n",
    "\n",
    "Now choose $C$ according to the following rule\n",
    "\n",
    "$$C = \\max \\{ z \\in \\mathbb{N} : z > \\frac{1}{r^k} ||A^k||^{1/k} \\; \\forall k = 0, 1, 2, \\dots, N_{\\varepsilon} \\}$$\n",
    "\n",
    "Note, for all $k > N_{\\varepsilon}$ that $||A^k||^{1/k} < r$. For $k < N_{\\varepsilon}$ we get\n",
    "\n",
    "\\begin{align*}\n",
    "  ||A^k||^{1/k} &\\leq r^k \\frac{1}{r^k} \\max_{n=0,1,\\dots,N_{\\varepsilon}} ||A^n||^{1/n} \\\\\n",
    "  &\\leq r^k C\n",
    "\\end{align*}\n",
    "\n",
    "Thus\n",
    "\n",
    "$$\\sum_{k=0}^{\\infty} ||A^k||^{1/k} \\leq \\sum_{k=0}^{\\infty} r^k C = \\frac{C}{1-r} < \\infty$$"
   ]
  },
  {
   "cell_type": "markdown",
   "metadata": {},
   "source": [
    "## Exercise 3"
   ]
  },
  {
   "cell_type": "markdown",
   "metadata": {},
   "source": [
    "### Question\n",
    "\n",
    "Show that if $\\rho(A) < 1$, then $||A^k|| \\rightarrow 0$ as $k \\rightarrow \\infty$ without using Gelfand's formula. Assume that $A$ is diagonalizable."
   ]
  },
  {
   "cell_type": "markdown",
   "metadata": {},
   "source": [
    "### Solution\n",
    "\n",
    "$A$ diagonalizable means that we can write $A = P^{-1} D P$ for a diagonal matrix $D$. In particular, we can choose \n",
    "\n",
    "$$D = \\begin{bmatrix} \\lambda_1 & 0 & \\dots & 0 \\\\\n",
    "                      0 & \\lambda_2 & 0 & \\dots \\\\\n",
    "                      0 & \\ddots & 0 & \\dots \\\\\n",
    "                      0 & \\dots & 0 & \\lambda_n \\end{bmatrix}$$\n",
    "                      \n",
    "where $\\lambda_i$ is the $i$th eigenvalue additionally $P$ is a matrix of the eigenvectors in this case. Without loss of generality we order the eigenvalues increasingly i.e. $\\lambda_1 < \\lambda_2 < \\dots < \\lambda_n$. We can write\n",
    "\n",
    "\\begin{align*}\n",
    "  || A^k || &= || P^{-1} D^k P || \\\\\n",
    "  &\\leq ||P^{-1}|| \\; ||D^k|| \\; ||P||\n",
    "\\end{align*}\n",
    "\n",
    "Note, if we can show $||D^k|| \\rightarrow 0$ then $||P^{-1}|| ||D^k|| ||P|| \\rightarrow 0$. Since $D$ is diagonal we can write\n",
    "\n",
    "\\begin{align*}\n",
    "  ||D^k|| &= \\sqrt{\\rho(D^{2k})} \\\\\n",
    "  &= \\sqrt{\\lambda_n^{2k}} \\\\\n",
    "  &= \\lambda_n^k\n",
    "\\end{align*}\n",
    "\n",
    "since $\\rho(A) < 1$ then $\\lim_{k \\rightarrow \\infty} \\lambda_n^k \\rightarrow 0$ which implies $||D^k|| \\rightarrow 0$. Thus we get $||A^k|| \\rightarrow 0$ as desired."
   ]
  },
  {
   "cell_type": "markdown",
   "metadata": {},
   "source": [
    "## Exercise 4"
   ]
  },
  {
   "cell_type": "markdown",
   "metadata": {},
   "source": [
    "### Question\n",
    "\n",
    "Show that the set of non-negative definite matrices is a closed subset of $(\\mathcal{M}(n\\times n), ||\\cdot||)$"
   ]
  },
  {
   "cell_type": "markdown",
   "metadata": {},
   "source": [
    "### Solution\n",
    "\n",
    "We want to show the set of non-negative definite matrices is a closed subset of $(\\mathcal{M}(n \\times n), || \\cdot ||)$; we will proceed to take a generic sequence which is converging to an element and show that the element it converges to is also in the set.\n",
    "\n",
    "Let $\\{A_n \\}$ be a sequence of matrices in $( \\mathcal{M}(n \\times n), || \\cdot ||)$ such that $A_n \\succeq 0$ $\\forall n$ -- Use notation $A \\succeq 0$ to denote semi-positive definite (or non-negative definite). Let\n",
    "\n",
    "$$\\lim_{n \\rightarrow \\infty} A_n = A$$\n",
    "\n",
    "We want to show $A \\succeq 0$. Will use $X = \\{ x \\in \\mathbb{R}^n : ||x||=1\\}$.\n",
    "\n",
    "Notice $\\lim_{n \\rightarrow \\infty} A_n = A$ implies $\\lim_{n \\rightarrow \\infty} || A_n - A || = 0$. This implies\n",
    "\n",
    "\\begin{align*}\n",
    "  \\lim_n \\max_{x} || A_n - A || = 0 \\\\\n",
    "  \\lim_n \\max_{x \\in X} x' (A_n - A) x = 0 \n",
    "\\end{align*}\n",
    "\n",
    "Since the max over all values of $x \\in X$ is equal to 0, then for any $y \\in X$ we have:\n",
    "\n",
    "\\begin{align*}\n",
    "  \\lim_n y' (A_n - A) y \\leq 0 \\\\\n",
    "  \\lim_n y' A_n y \\leq y' A y\n",
    "\\end{align*}\n",
    "\n",
    "Additionally, since $A_n \\succeq 0$ for all $n$ we can write\n",
    "\n",
    "$$0 \\leq \\lim_n y' A_n y \\leq y' A y$$\n",
    "\n",
    "Thus $A \\succeq 0$ and the limit is contained in the set. This means the set of non-negative definite matrices is a closed subset of $(\\mathcal{M}(n \\times n), || \\cdot ||)$"
   ]
  },
  {
   "cell_type": "markdown",
   "metadata": {},
   "source": [
    "## Exercise 5"
   ]
  },
  {
   "cell_type": "markdown",
   "metadata": {},
   "source": [
    "### Question\n",
    "\n",
    "Let $M, A$ be in $\\mathcal{M}(n \\times n)$ with $\\rho(A) < 1$. Let $X^*$ be the unique solution to the Lyapunov equation\n",
    "\n",
    "$$X = A X A' + M$$\n",
    "\n",
    "Show that if\n",
    "\n",
    "(1) $M$ symmetric $\\Rightarrow$ $X^*$ symmetric\n",
    "\n",
    "(2) $M$ nonnegative definite $\\Rightarrow$ $X^*$ nonnegative definite\n",
    "\n",
    "(3) $M$ positive definite $\\Rightarrow$ $X^*$ positive definite"
   ]
  },
  {
   "cell_type": "markdown",
   "metadata": {},
   "source": [
    "### Solution\n",
    "\n",
    "Note since $\\rho(A) < 1$ then $X^*$ is unique. Now we'll proceed to show each of the three properties of $X^*$ desired.\n",
    "\n",
    "(1) Let $M$ by symmetric. The solution satisfies\n",
    "\n",
    "\\begin{align*}\n",
    "  X^* &= A X^* A^{T} + M\n",
    "\\end{align*}\n",
    "\n",
    "The tranpose of this equation is\n",
    "\n",
    "\\begin{align*}\n",
    "  X^{*T} &= A X^{*T} A^{T} + M^{T} \\\\\n",
    "  X^{*T} &= A X^{*T} A^{T} + M \\\\\n",
    "\\end{align*}\n",
    "\n",
    "Notice $X^{*T}$ satisfies the same Lyapunov equation as $X^*$. Since $\\rho(A) < 1$ we know there was a unique solution and thus we must have $X^* = X^{*T}$.\n",
    "\n",
    "(2) Recall in problem 4 that we showed the set of non-negative definite matrices was a closed set in our metric space. Additionally, the Lyapunov equation is a contraction. If we can show that the Lyapunov equation maps non-negative definite matrices into non-negative definite matrices then we know the unique solution must lie in this closed set (by a corollary to contraction mapping theorem). Now we only need to show that the Lyapunov operator maps non-negative matrices into non-negative matrices.\n",
    "\n",
    "If we can show $z' L X z \\geq 0$ then we are done.\n",
    "\n",
    "\\begin{align*}\n",
    "  z' L X z &= z' A X A' z + z' M z \\\\\n",
    "  &= (z' A) X (A' z) + z' M z\n",
    "\\end{align*}\n",
    "\n",
    "Note since $z' A \\in \\mathbb{R}^n$ and $X \\succeq 0$ then $(z' A) X (A' z) \\geq 0$ and $M \\succeq 0$ imples $z' M z \\geq 0$. Thus $z' L X z$ is the sum of two non-negative components and thus $z' L X z \\geq 0$ which means the Lyapunov operator preserves non-negative definiteness. This means the solution is also non-negative definite.\n",
    "\n",
    "(3) We proceed similarly to the previous problem. There is another corollary to the contraction mapping theorem that says if a contraction maps a closed set into an open subset of itself then the unique solution lies within that open subset. Positive definite matrices are an open subset of the closed set semi-positive definite matrices, thus if the Lyapunov operator maps semi-positive definite matrices into positive definite matrices then we are done.\n",
    "\n",
    "Let $X$ be a semi-positive definite matrix. Recall that $(z' A) X (A' z) \\geq 0$ and additionally $z' M z > 0$. Thus\n",
    "\n",
    "$$z' LX z = (z' A) X (A' z) + z' M z > 0$$\n",
    "\n",
    "Then by the corollary to contraction mapping theorem the unique solution to the Lyapunov operator is positive definite.\n"
   ]
  },
  {
   "cell_type": "markdown",
   "metadata": {},
   "source": [
    "## Exercise 6"
   ]
  },
  {
   "cell_type": "markdown",
   "metadata": {},
   "source": [
    "### Question\n",
    "\n",
    "Write a function or class that takes the primitives of the linear quadratic asset pricing problem stated i the lectures and returns the price (or the matrix and scalar that define the price function). Your routine should test the stability condition and fail gracefully (i.e., with a useful message) when it doesn't hold.\n",
    "\n",
    "In solving the Lyapunov equation, rather than using an existing routine, write your own function based on the iterative method suggested in the lectures. \n",
    "\n",
    "Test your code in the setting of $\\mathbb{R}^2$ with\n",
    "\n",
    "$$A = \\begin{bmatrix} 0.8 & -0.1 \\\\ -0.1 & 0.8 \\end{bmatrix} \\quad C = D = \\begin{bmatrix} 1 & 0 \\\\ 0 & 1 \\end{bmatrix}$$\n",
    "\n",
    "and $\\beta = 0.9$. Compute the corresponding price function and plot it as a contour map. See if you can reproduce figure 1."
   ]
  },
  {
   "cell_type": "markdown",
   "metadata": {},
   "source": [
    "### Solution"
   ]
  },
  {
   "cell_type": "markdown",
   "metadata": {},
   "source": [
    "We first write a class to represent Lyapunov equations"
   ]
  },
  {
   "cell_type": "code",
   "execution_count": 2,
   "metadata": {
    "collapsed": true
   },
   "outputs": [],
   "source": [
    "class LyapunovEquation(object):\n",
    "    \"\"\"\n",
    "    Represents a Lyapunov equation of the form\n",
    "    \n",
    "    X = A X A' + M\n",
    "    \"\"\"\n",
    "    def __init__(self, A, M):\n",
    "        self.A, self.M = A, M\n",
    "        self.n = A.shape[0]\n",
    "        \n",
    "        if A.shape != M.shape:\n",
    "            raise ValueError(\"A and M must have same shape\")\n",
    "        if self.n != A.shape[1]:\n",
    "            raise ValueError(\"A and M must be square!\")\n",
    "\n",
    "    def _unpack(self):\n",
    "        return self.A, self.M, self.n\n",
    "\n",
    "    @property\n",
    "    def isstable(self):\n",
    "        return np.all(np.absolute(la.eigvals(self.A)) < 1)\n",
    "\n",
    "    def solve(self, tol=1e-6, maxiter=1000):\n",
    "        \"\"\"\n",
    "        Computes the solution x^* using an iterative algorithm. This\n",
    "        algorithm is only applicable if A is a stable matrix\n",
    "        \"\"\"\n",
    "        # Unpack matrices\n",
    "        A, M, n = self._unpack()\n",
    "        AT = A.T\n",
    "\n",
    "        if not self.isstable:\n",
    "            raise ValueError(\"The A matrix must be stable\")\n",
    "\n",
    "        # Initial value\n",
    "        x = np.zeros((n, n))\n",
    "        Lx = np.copy(x)\n",
    "\n",
    "        dist = 10.0\n",
    "        for it in range(maxiter):\n",
    "            # One step\n",
    "            Lx = A@x@AT + M\n",
    "\n",
    "            dist = np.max(np.abs(Lx - x))\n",
    "            x = Lx\n",
    "            if dist < tol:\n",
    "                return Lx\n",
    "\n",
    "        raise ValueError(\"Did not converge in {} iterations\".format(maxiter))\n"
   ]
  },
  {
   "cell_type": "code",
   "execution_count": 3,
   "metadata": {
    "collapsed": false
   },
   "outputs": [],
   "source": [
    "A = np.eye(4)*0.9\n",
    "le = LyapunovEquation(A, np.eye(4))"
   ]
  },
  {
   "cell_type": "code",
   "execution_count": 4,
   "metadata": {
    "collapsed": false
   },
   "outputs": [
    {
     "data": {
      "text/plain": [
       "array([[ 5.26315401,  0.        ,  0.        ,  0.        ],\n",
       "       [ 0.        ,  5.26315401,  0.        ,  0.        ],\n",
       "       [ 0.        ,  0.        ,  5.26315401,  0.        ],\n",
       "       [ 0.        ,  0.        ,  0.        ,  5.26315401]])"
      ]
     },
     "execution_count": 4,
     "metadata": {},
     "output_type": "execute_result"
    }
   ],
   "source": [
    "le.solve(maxiter=10000)"
   ]
  },
  {
   "cell_type": "markdown",
   "metadata": {},
   "source": [
    "Next we write a class which takes the primitives of the asset pricing function and defines how to solve it"
   ]
  },
  {
   "cell_type": "code",
   "execution_count": 5,
   "metadata": {
    "collapsed": true
   },
   "outputs": [],
   "source": [
    "class LQAssetPricing(object):\n",
    "    \"\"\"\n",
    "    Solves the Linear Quadratic asset pricing problem for a \n",
    "    risk-neutral agent\n",
    "    \"\"\"\n",
    "    def __init__(self, beta, A, C, D):\n",
    "        # Parameters\n",
    "        self.beta, self.A, self.C, self.D = beta, A, C, D\n",
    "        self.Pstar, self.dstar = None, None\n",
    "\n",
    "        # Corresponding Lyapunov Equation\n",
    "        ly_M = beta * (A.T @ D @ A)\n",
    "        ly_A = np.sqrt(beta)*A.T\n",
    "        self.ap_lyap = LyapunovEquation(ly_A, ly_M)\n",
    "\n",
    "    def _unpack(self):\n",
    "        return self.beta, self.A, self.C, self.D\n",
    "\n",
    "    def prices(self, tol=1e-8, maxiter=1000):\n",
    "        \"\"\"\n",
    "        Solves for matrix Pstar and scalar dstar such that the\n",
    "        prices are determined by\n",
    "\n",
    "        p = x Pstar x + dstar\n",
    "        \"\"\"\n",
    "        beta, A, C, D = self._unpack()\n",
    "\n",
    "        # Get matrices we need\n",
    "        Pstar = self.ap_lyap.solve(tol, maxiter)\n",
    "        dstar = beta/(1-beta) * np.trace(C.T @ (D + Pstar) @ C)\n",
    "\n",
    "        # Store as needed\n",
    "        self.Pstar = Pstar\n",
    "        self.dstar = dstar\n",
    "\n",
    "        return Pstar, dstar\n",
    "\n",
    "    def eval_price(self, x):\n",
    "        \"\"\"\n",
    "        Given a state evaluate the price\n",
    "        \"\"\"\n",
    "        # Check whether prices are defined\n",
    "        if self.Pstar is None:\n",
    "            self.prices()\n",
    "\n",
    "        return x @ self.Pstar @ x + self.dstar\n"
   ]
  },
  {
   "cell_type": "markdown",
   "metadata": {},
   "source": [
    "We can now create the instance as described in the homework"
   ]
  },
  {
   "cell_type": "code",
   "execution_count": 6,
   "metadata": {
    "collapsed": true
   },
   "outputs": [],
   "source": [
    "beta = 0.9\n",
    "A = np.array([[0.8, -0.1], [-0.1, 0.8]])\n",
    "C = np.eye(2)\n",
    "D = np.eye(2)\n",
    "\n",
    "lqap = LQAssetPricing(beta, A, C, D)"
   ]
  },
  {
   "cell_type": "code",
   "execution_count": 7,
   "metadata": {
    "collapsed": false
   },
   "outputs": [],
   "source": [
    "N = 250\n",
    "x1 = np.linspace(-10, 10, N)\n",
    "x2 = np.linspace(-10, 10, N)\n",
    "price_x1x2 = np.empty((N, N))\n",
    "\n",
    "for _i1, _x1 in enumerate(x1):\n",
    "    for _i2, _x2 in enumerate(x2):\n",
    "        price_x1x2[_i1, _i2] = lqap.eval_price(np.array([_x1, _x2]))"
   ]
  },
  {
   "cell_type": "code",
   "execution_count": 8,
   "metadata": {
    "collapsed": false
   },
   "outputs": [
    {
     "data": {
      "image/png": "[encoded data removed]",
      "text/plain": [
       "<matplotlib.figure.Figure at 0x7f72fcc6ac18>"
      ]
     },
     "metadata": {},
     "output_type": "display_data"
    }
   ],
   "source": [
    "fig, ax = plt.subplots(figsize=(12, 10))\n",
    "\n",
    "# con.set_cmap(\"viridis_r\")\n",
    "con = ax.contour(x1, x2, price_x1x2, cmap=\"viridis\")\n",
    "ax.clabel(con, colors=\"k\", fontsize=14)\n",
    "ax.contourf(x1, x2, price_x1x2, cmap=\"viridis\")\n",
    "\n",
    "ax.set_xlabel(r\"$x_1$\", fontsize=17)\n",
    "ax.set_ylabel(r\"$x_2$\", fontsize=17)\n",
    "ax.set_title(\"Equilibrium Prices\", fontsize=18)\n",
    "\n",
    "plt.show()"
   ]
  },
  {
   "cell_type": "code",
   "execution_count": null,
   "metadata": {
    "collapsed": true
   },
   "outputs": [],
   "source": []
  }
 ],
 "metadata": {
  "kernelspec": {
   "display_name": "Python 3",
   "language": "python",
   "name": "python3"
  },
  "language_info": {
   "codemirror_mode": {
    "name": "ipython",
    "version": 3
   },
   "file_extension": ".py",
   "mimetype": "text/x-python",
   "name": "python",
   "nbconvert_exporter": "python",
   "pygments_lexer": "ipython3",
   "version": "3.5.1"
  }
 },
 "nbformat": 4,
 "nbformat_minor": 0
}
