{
 "cells": [
  {
   "cell_type": "markdown",
   "metadata": {},
   "source": [
    "# Homework 9\n",
    "### Timothy Petliar\n",
    "### N12592901\n",
    "\n",
    "The goal of this problem set is solve the discete Lyapunov equation using an iterative method.\n",
    "In particular, given $\\beta, A,C, \\text{and} \\ D$, we seek a pair $P \\in \\mathcal{M}(n \\times n), \\delta \\in \\mathbb{R} \\ \\text{that satisfies} \\\n",
    "x'P'x + \\delta =\\beta x'A'(D+P)Ax+\\beta tr(C'(D+P)C) + \\beta \\delta$ for all $x\\in \\mathbb{R}^{n}$. "
   ]
  },
  {
   "cell_type": "code",
   "execution_count": 30,
   "metadata": {
    "collapsed": false
   },
   "outputs": [],
   "source": [
    "import numpy as np\n",
    "\n",
    "import quantecon as qe\n",
    "\n",
    "import matplotlib.pyplot as plt\n",
    "\n",
    "A=np.array(([0.8, -0.1],[-0.1, 0.8]))\n",
    "\n",
    "b=0.9 #beta\n",
    "\n",
    "C=np.identity(2) \n",
    "\n",
    "D=np.identity(2)\n",
    "\n",
    "e=0.000000001 #Tolerance\n"
   ]
  },
  {
   "cell_type": "code",
   "execution_count": 31,
   "metadata": {
    "collapsed": false
   },
   "outputs": [],
   "source": [
    "def spec_norm(M):\n",
    "    \"\"\"\n",
    "Computes spectral norm of inout matrix M using ||M||=sqrt(r(M'M)) where 'r' denotes the the spectral radius.\n",
    "    \"\"\"\n",
    "    A_tA=M.T @ (M) #Compute M'M\n",
    "    \n",
    "    r=np.amax(np.abs(np.linalg.eigvals(A_tA))) # Compute r(M'M) where 'r' denotes the the spectral radius\n",
    "   \n",
    "    norm=np.sqrt(r) #||M||=sqrt(r(M'M))\n",
    "    \n",
    "    return norm"
   ]
  },
  {
   "cell_type": "code",
   "execution_count": 32,
   "metadata": {
    "collapsed": false
   },
   "outputs": [],
   "source": [
    "def equil_price_func(A,b,C,D,e):\n",
    "   \"\"\"\n",
    "  Compute the equilibrium using an iteratice method.  Namely, start P_init as identity matrix then \n",
    "  compute P_new=b*A'(D+P)A. Compare spec_norm(P_new-P) until within desired tolerance. Matrix A will be checked for stability.\n",
    "  Matrix A  must satisfy p(A)<1/sqrt(b). Returns equilibrium price matrix and delta term.\n",
    "   \"\"\"\n",
    "    P=np.identity(2)\n",
    "   \n",
    "    P_new=np.identity(2)\n",
    "    \n",
    "    itr=100000  #maximum number of iterations. Way more then would ever be necassary\n",
    "    \n",
    "    for i in range (0,itr):       \n",
    "        \n",
    "        P_new=(b*A.T @(D+P)@A)  # Repeatedly apply b * A'(D+P)A\n",
    "        \n",
    "        if spec_norm(A)>=1/(np.sqrt(b)):\n",
    "            \n",
    "            print(\"Convergence condition not satisfied. p(A)>=1/sqrt(b)\") #test stabiltiy of A\n",
    "            \n",
    "            break  \n",
    "        \n",
    "        elif spec_norm(P- P_new)<e:  #End loop at set tolerance\n",
    "            \n",
    "            break\n",
    "        \n",
    "        elif i==itr-1: #If the total iterations were exceeded for some reasons. Would alert likely error in problem setup\n",
    "            \n",
    "            print(\"Convergence failed\")\n",
    "            \n",
    "            break\n",
    "       \n",
    "        else:\n",
    "            \n",
    "            P[:]=P_new\n",
    "    \n",
    "    delta= b/(1-b)*np.trace(C.T@(D + P)@C) #Compute delta*\n",
    "        \n",
    "    return P_new, delta\n",
    "        \n",
    "\n",
    "\n",
    "             \n"
   ]
  },
  {
   "cell_type": "code",
   "execution_count": 37,
   "metadata": {
    "collapsed": false
   },
   "outputs": [
    {
     "data": {
      "text/plain": [
       "(array([[ 1.73947283, -0.95056407],\n",
       "        [-0.95056407,  1.73947283]]), 49.310510969268876)"
      ]
     },
     "execution_count": 37,
     "metadata": {},
     "output_type": "execute_result"
    }
   ],
   "source": [
    "equil_price_func(A,b,C,D,e)"
   ]
  },
  {
   "cell_type": "code",
   "execution_count": 235,
   "metadata": {
    "collapsed": false
   },
   "outputs": [
    {
     "data": {
      "text/plain": [
       "array([[ 1.73947283, -0.95056407],\n",
       "       [-0.95056407,  1.73947283]])"
      ]
     },
     "execution_count": 235,
     "metadata": {},
     "output_type": "execute_result"
    }
   ],
   "source": [
    "def lyapunov_solver(A,b,C,D):\n",
    "    \"\"\"\n",
    "Takes the initial puts and transform them into the necassary form for the QuantEcon library Lyapunov solver to be used.\n",
    "    \"\"\"\n",
    "    M=b* A.T @ D @ A\n",
    "    \n",
    "    G=np.sqrt(b) *A.T\n",
    "   \n",
    "    return qe.matrix_eqn.solve_discrete_lyapunov(G,M, max_it=100)\n",
    "\n",
    "lyapunov_solver(A,b,C,D)"
   ]
  },
  {
   "cell_type": "markdown",
   "metadata": {},
   "source": [
    "I compared the output my function to the out of the QuantEcon method. When I increased max_it, the QuantEcon output did not change, so this told me it was accurate to the digits displayed. I then kept decreasing my tolerance term until I achieved the same decimal output using my method. "
   ]
  },
  {
   "cell_type": "code",
   "execution_count": 236,
   "metadata": {
    "collapsed": false
   },
   "outputs": [],
   "source": [
    "def price(P,d,x):\n",
    "    \"\"\"\n",
    "    Takes stable price marix, delta, and desired input vector to actually the price.\n",
    "    \"\"\"\n",
    "    return (x.T @ P @ x) +d #P(x)=x'P x"
   ]
  },
  {
   "cell_type": "code",
   "execution_count": 238,
   "metadata": {
    "collapsed": false
   },
   "outputs": [],
   "source": [
    "def contour(A,b,C,D,e):\n",
    "    \n",
    "    N=300\n",
    "    \n",
    "    coord = np.linspace(-10, 10, N)\n",
    "\n",
    "    x = np.zeros((2,1))\n",
    "    \n",
    "    X, Y = np.meshgrid(coord, coord)\n",
    "   \n",
    "    Price_val = np.zeros((N, N))\n",
    "   \n",
    "    P, d = equil_price_func(A,b,C,D,e)\n",
    "\n",
    "    \n",
    "    for k in range(N):        #Compute prices for a grid of values\n",
    "        \n",
    "        for j in range(N):\n",
    "            \n",
    "            x[0] = coord[k]\n",
    "            \n",
    "            x[1] = coord[j]\n",
    "            \n",
    "            Price_val[k, j] = price(P,d,x)\n",
    "\n",
    "    Plot=plt.contourf(X, Y, Price_val, alpha=1 #Filled plot\n",
    "    \n",
    "    Plot=plt.contour(X, Y, Price_val, alpha=1) #Contour lines\n",
    "    \n",
    "    \n",
    "    plt.clabel(Plot, inline=1, fontsize=12, colors='black')\n",
    "    \n",
    "    plt.title('Price Function Contour Plot')\n",
    "    \n",
    "    plt.xlabel('$x_{_1}$', fontsize=16)\n",
    "    \n",
    "    plt.ylabel('$x_{_2}$', fontsize=16)\n",
    "    \n",
    "    plt.show()\n",
    "    \n",
    "    return None"
   ]
  },
  {
   "cell_type": "markdown",
   "metadata": {},
   "source": [
    "At first I had only a filled plot, but this resulted in something very jagged. Apparently, plotting the contour lines and then filling them avoids this issue. Credit to Brando for significant help with plotting "
   ]
  },
  {
   "cell_type": "code",
   "execution_count": 240,
   "metadata": {
    "collapsed": false
   },
   "outputs": [
    {
     "data": {
      "image/png": "[encoded data removed]",
      "text/plain": [
       "<matplotlib.figure.Figure at 0xf61fef0>"
      ]
     },
     "metadata": {},
     "output_type": "display_data"
    }
   ],
   "source": [
    "%matplotlib inline\n",
    "\n",
    "contour(A,b, C,D,e)"
   ]
  }
 ],
 "metadata": {
  "kernelspec": {
   "display_name": "Python 3",
   "language": "python",
   "name": "python3"
  },
  "language_info": {
   "codemirror_mode": {
    "name": "ipython",
    "version": 3
   },
   "file_extension": ".py",
   "mimetype": "text/x-python",
   "name": "python",
   "nbconvert_exporter": "python",
   "pygments_lexer": "ipython3",
   "version": "3.5.1"
  }
 },
 "nbformat": 4,
 "nbformat_minor": 0
}
