{
 "cells": [
  {
   "cell_type": "markdown",
   "metadata": {},
   "source": [
    "\\section*{Problem Set 11}\n",
    "\n",
    "\\begin{eqnarray*}\n",
    "& \\max \\mathbb{E} \\sum_{t = 0}^{\\infty} \\beta^t u(c_t) \\\\\n",
    "\\text{subject to} & y_{t+1} = \\xi_{t +1} f(y_t - c_t)\n",
    "\\end{eqnarray*}\n",
    "with $u(x) = 1 - exp(-\\theta x^{\\gamma})$ and $f(x) = l(x) x^{\\alpha}$ where $l$ is the logistic function. \n",
    "\n",
    "Bellmanized problem:\n",
    "\\begin{eqnarray*}\n",
    "v(y_t,\\xi_t) = & \\max   u(c_t) +  \\mathbb{E} \\beta v(y_{t+1},\\xi_{t+1}) \\\\\n",
    "\\text{subject to} & y_{t+1} = \\xi_{t +1} f(y_t - c_t)\n",
    "\\end{eqnarray*}\n",
    "\n",
    "with $log \\xi_{t+1} \\sim iid. N(-0.1,0.2)$\n",
    "\n",
    "As we have iid shocks we only have to keep track of $y_t$:\n",
    "\n",
    "\\begin{eqnarray*}\n",
    "v(y_t) = & \\max   u(c_t) +  \\mathbb{E} \\beta v(\\xi_{t +1} f(y_t - c_t)) \n",
    "\\end{eqnarray*}\n",
    "\n",
    "Howard iteration:\n",
    "\n",
    "- Step I.: Guess $\\sigma$\n",
    "- Step II.: Iterate the Bellman operator to find $v_{\\sigma}$  using numerical integration\n",
    "- Step III.: Maximize $v_{\\sigma}$ and find $\\sigma'$ - use (vectorized) golden section search method\n",
    "\n",
    "Both the value function and the policy function is approximated with cubic splines (with 20 nodes). In order to download the poly_base package go to: https://github.com/lt1245/poly_base ."
   ]
  },
  {
   "cell_type": "code",
   "execution_count": 1,
   "metadata": {
    "collapsed": false
   },
   "outputs": [],
   "source": [
    "import numpy as np\n",
    "from scipy.stats import lognorm\n",
    "import scipy.linalg as slin\n",
    "from poly_base import interpolate as ip # toolbox for the project\n",
    "import matplotlib.pyplot as plt\n",
    "import time # To see how quickly it runs\n",
    "%matplotlib inline"
   ]
  },
  {
   "cell_type": "markdown",
   "metadata": {},
   "source": [
    "Parameter block"
   ]
  },
  {
   "cell_type": "code",
   "execution_count": 2,
   "metadata": {
    "collapsed": false
   },
   "outputs": [],
   "source": [
    "a = 1\n",
    "b = 2\n",
    "c = 20\n",
    "d = 1\n",
    "theta = 0.5\n",
    "gamma = 0.9\n",
    "alpha = 0.5\n",
    "mu = - 0.1\n",
    "sigma = 0.2 ** (1.0 / 2.0)\n",
    "beta = 0.945\n",
    "n_y = 25\n",
    "n_xi = 100\n",
    "xi_lower = 0.7\n",
    "xi_upper = 2.5\n",
    "y_lower = 0.001\n",
    "y_upper = 10.0\n",
    "y_grid = np.linspace(y_lower,y_upper,n_y)\n",
    "xi_grid = np.linspace(xi_lower,xi_upper,n_xi) # Not optimal node placement\n",
    "xi_grid = np.reshape(xi_grid,(n_xi,1))\n",
    "P = np.array((n_y,y_grid[0],y_grid[-1])) #Interpolation object\n",
    "degree = 3 # cubic splines"
   ]
  },
  {
   "cell_type": "code",
   "execution_count": 3,
   "metadata": {
    "collapsed": true
   },
   "outputs": [],
   "source": [
    "def utility(x):\n",
    "    return 1-np.exp(-theta * x**gamma)\n",
    "def l(x):\n",
    "    return a + (b - a) / (1 + np.exp(-c * (x - d)))\n",
    "def prod_fun(x):\n",
    "    return x ** alpha * l(x)"
   ]
  },
  {
   "cell_type": "markdown",
   "metadata": {
    "collapsed": true
   },
   "source": [
    "Initial linear guess for the policy function"
   ]
  },
  {
   "cell_type": "code",
   "execution_count": 4,
   "metadata": {
    "collapsed": false
   },
   "outputs": [],
   "source": [
    "guess =    0.8 * y_grid"
   ]
  },
  {
   "cell_type": "markdown",
   "metadata": {},
   "source": [
    "Evaluate cubic spline basis matrices and initial guess"
   ]
  },
  {
   "cell_type": "code",
   "execution_count": 5,
   "metadata": {
    "collapsed": false
   },
   "outputs": [],
   "source": [
    "Phi_y = ip.spli_basex(P,y_grid,deg = degree)\n",
    "coeff_guess = slin.solve(Phi_y,guess)"
   ]
  },
  {
   "cell_type": "markdown",
   "metadata": {},
   "source": [
    "Do the value function iteration step for a given policy (Step II.):"
   ]
  },
  {
   "cell_type": "code",
   "execution_count": 6,
   "metadata": {
    "collapsed": false
   },
   "outputs": [],
   "source": [
    "def value(sprime,coeff_v,order):\n",
    "    Phi_sprime = ip.spli_basex(P,sprime,deg = degree,order = order)\n",
    "    return Phi_sprime @ coeff_v "
   ]
  },
  {
   "cell_type": "code",
   "execution_count": 7,
   "metadata": {
    "collapsed": true
   },
   "outputs": [],
   "source": [
    "def policy(coeff,Phi_y):\n",
    "    return Phi_y @ coeff"
   ]
  },
  {
   "cell_type": "code",
   "execution_count": 8,
   "metadata": {
    "collapsed": false
   },
   "outputs": [],
   "source": [
    "def value_it(coeff,coeff_v):\n",
    "    conv1 = 2.0\n",
    "    iteration = 0\n",
    "    yprime = prod_fun(y_grid - policy(coeff,Phi_y))\n",
    "    sprime = np.multiply(xi_grid,yprime) \n",
    "    while conv1 > 1e-10:\n",
    "        iteration = iteration +1\n",
    "        value_1 =np.empty(sprime.shape)\n",
    "        for i in range(n_xi):\n",
    "            value_1[i,:] =  value(sprime[i,:],coeff_v,0)\n",
    "        value_mass = np.multiply(np.repeat(lognorm.pdf(xi_grid, sigma, mu, np.exp(mu)),n_y,1),value_1) \n",
    "        value_expect = value_mass.sum(0) * (xi_upper - xi_lower)/ n_xi\n",
    "        coeff_v_next = slin.solve(Phi_y,utility(policy(coeff,Phi_y)) + beta * value_expect)\n",
    "        conv1 = np.sum(np.abs(coeff_v_next-coeff_v))\n",
    "        np.copyto(coeff_v,coeff_v_next)\n",
    "    return coeff_v"
   ]
  },
  {
   "cell_type": "markdown",
   "metadata": {},
   "source": [
    "The maximization and updating step (Step III.):"
   ]
  },
  {
   "cell_type": "code",
   "execution_count": 9,
   "metadata": {
    "collapsed": false
   },
   "outputs": [],
   "source": [
    "def main_loop(coeff_guess):\n",
    "    conv2 = 2.0\n",
    "    iteration2 = 0\n",
    "    coeff_v = value_it(coeff_guess,np.zeros(coeff_guess.shape))\n",
    "    cons1 = policy(coeff_guess,Phi_y)\n",
    "    while conv2 > 1e-6:\n",
    "        iteration2 = iteration2 + 1\n",
    "        def maximizand(cons):\n",
    "            yprime = prod_fun(y_grid - cons)\n",
    "            sprime = np.multiply(xi_grid,yprime) \n",
    "            value_1 =np.empty(sprime.shape)\n",
    "            for i in range(n_xi):\n",
    "                value_1[i,:] =  value(sprime[i,:],coeff_v,0)\n",
    "            value_mass = np.multiply(np.repeat(lognorm.pdf(xi_grid, sigma, mu, np.exp(mu)),n_y,1),value_1) \n",
    "            value_expect = value_mass.sum(0) * (xi_upper - xi_lower)/ n_xi\n",
    "            return utility(cons) + beta * value_expect\n",
    "        cons_opt, value_opt = ip.goldenx(maximizand,y_lower*np.ones(y_grid.shape),y_grid,1e-8)\n",
    "        coeff = slin.solve(Phi_y,cons_opt)\n",
    "        coeff_v_next = slin.solve(Phi_y,value_opt)\n",
    "        coeff_v = value_it(coeff,coeff_v_next)\n",
    "        conv2 = np.sum(np.abs(cons_opt-cons1))\n",
    "        np.copyto(cons1 , cons_opt)\n",
    "        print(conv2)\n",
    "    return coeff, coeff_v"
   ]
  },
  {
   "cell_type": "markdown",
   "metadata": {},
   "source": [
    "Run the main loop to get the coefficients for the splines (consumption and value function):"
   ]
  },
  {
   "cell_type": "code",
   "execution_count": 10,
   "metadata": {
    "collapsed": false
   },
   "outputs": [
    {
     "name": "stdout",
     "output_type": "stream",
     "text": [
      "21.3233468493\n",
      "2.4454167453\n",
      "0.111798473006\n",
      "0.00678929261974\n",
      "3.72287206607e-05\n",
      "8.53798131195e-07\n",
      "--- 35.53203225135803 seconds ---\n"
     ]
    }
   ],
   "source": [
    "start_time = time.time()\n",
    "coeff, coeff_v = main_loop(coeff_guess)\n",
    "print(\"--- %s seconds ---\" % (time.time() - start_time))"
   ]
  },
  {
   "cell_type": "markdown",
   "metadata": {
    "collapsed": false
   },
   "source": [
    "\\subsection*{Plotting}"
   ]
  },
  {
   "cell_type": "code",
   "execution_count": 11,
   "metadata": {
    "collapsed": false
   },
   "outputs": [
    {
     "data": {
      "image/png": "[encoded data removed]",
      "text/plain": [
       "<matplotlib.figure.Figure at 0xa85e160>"
      ]
     },
     "metadata": {},
     "output_type": "display_data"
    }
   ],
   "source": [
    "y_grid_fine = np.linspace(y_lower,y_upper,1 * n_y)\n",
    "Phi_y_fine = ip.spli_basex(P,y_grid_fine,deg = degree)\n",
    "cons_plot = policy(coeff,Phi_y_fine)\n",
    "fig2, ax2 = plt.subplots()\n",
    "ax2.plot(y_grid_fine,cons_plot, 'b-', label='Policy function')\n",
    "legend = ax2.legend(loc='upper center', shadow=True)\n",
    "frame = legend.get_frame()\n",
    "frame.set_facecolor('0.90')\n",
    "plt.xlabel('Capital')\n",
    "plt.ylabel('Consumption')\n",
    "plt.show()"
   ]
  },
  {
   "cell_type": "code",
   "execution_count": null,
   "metadata": {
    "collapsed": true
   },
   "outputs": [],
   "source": []
  }
 ],
 "metadata": {
  "kernelspec": {
   "display_name": "Python 3",
   "language": "python",
   "name": "python3"
  },
  "language_info": {
   "codemirror_mode": {
    "name": "ipython",
    "version": 3
   },
   "file_extension": ".py",
   "mimetype": "text/x-python",
   "name": "python",
   "nbconvert_exporter": "python",
   "pygments_lexer": "ipython3",
   "version": "3.5.1"
  }
 },
 "nbformat": 4,
 "nbformat_minor": 0
}
