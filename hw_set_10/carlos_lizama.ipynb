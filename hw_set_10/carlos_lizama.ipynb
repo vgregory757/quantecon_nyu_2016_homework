{
 "cells": [
  {
   "cell_type": "markdown",
   "metadata": {},
   "source": [
    "## Homework 10\n",
    "\n",
    "Carlos Lizama\n",
    "N17866309\n",
    "\n",
    "In this homework I replicate figure 9a of the paper *Globalization and Synchronization of Innovation Cycles* by Matsuyama, Sushko and Gardini.\n",
    "\n",
    "The model is a two contries $(j,k)$ economy. In each contry the representative household supply labor inelastically. Contries are identical although they might differ in size, ie labor supply might be larger in one (in the version simulated in this homework both countries are of the same size). Households consume a nontradable final good, competitively produced,  which is a composite of homogeneous good and composite of differenciated goods which could be supplied either in monopolistic markets, when and innovator creates a new variaty has a monopoly for one period, or in competitive markets for old variaties. The differenciated intermediate goods are produced in both contries.\n",
    "\n",
    "There is a cost of suppying one unit of intermediate good to the other contry $\\tau$. Define $\\rho$, as the measure of how much the imported good is spent on an importad variety, $\\rho = (\\tau)^{1-\\sigma}$, where $\\sigma$ is the elasticity of subsitution among intermediate goods. $\\rho$ is the measure of globalization in the economy.\n",
    "\n",
    "Let $p_{jt}^c$ and $p_{jt}^c$ the price and output for a competitively produced variety in country $j$ at time $t$ and Let $p_{jt}^m$ and $p_{jt}^m$ the price and output for the monopolistically produced variaties. It can be show that $\\frac{p_{jt}^c y_{jt}^c}{p_{jt}^m y_{jt}^m} = \\left( 1 - \\frac{1}{\\sigma} \\right)^{1-\\sigma} \\equiv \\theta \\in (1, e)$. The competitive variaties are cheaper and produced and sold more than their monopolistically produced counterparts.\n",
    "\n",
    "Denote $N_{jt}^c$ and $N_{jt}^m$ the measure of competitive and monopolistically competitive supplied intermediate inputs. Denote also $M_{jt}$ as the effective input variaties produced in $j$ available to the final producer $M_{jt} = N_{jt}^c + N_{jt}^m/\\theta$.\n",
    "\n",
    "A new variaty is introduced by using $f$ units of labor. The complementary slackness condition reads $\\pi_{jt}^m \\leq 0;  N_{jt}^m \\geq 0$, equivalently $\\pi_{jt}^m N_{jt}^m = 0$. Hence, if there is innovation then profits are zero or profits are negative and there is no innovation. After doing some algebra these conditions boil down to $N_{jt}^m \\geq 0$ and $\\frac{1}{\\sigma} \\left[ \\frac{\\alpha L_j}{\\theta (M_{jt}) + \\rho M_{kt}} + \\frac{\\alpha L_k}{\\theta (M_{jt}) + \\rho M_{kt}} \\right] \\leq f$.\n",
    "\n",
    "Old varieties get obsolete with probability $\\delta$ each period, hence $N_{jt+1}^c = \\delta (N_{jt}^c + N_{jt}^m) = \\delta(N_{jt}^c + \\theta(M_{jt} - N_{jt}^c))$.\n",
    "\n",
    "Finally, normalizing measures $n_{jt} \\equiv \\frac{\\theta \\sigma f N_{jt}^c}{\\alpha(L_1 + L_2)}; i_{jt} \\equiv \\frac{\\theta \\sigma f N_{jt}^m}{\\alpha(L_1 + L_2)}; m_{jt} \\equiv \\frac{\\theta \\sigma f M_{jt}}{\\alpha(L_1 + L_2)}$, and $L_j = L_k$, we obtain that the dynamics of the 2D sytem is summarized by the following equation:\n",
    "\n",
    "\\begin{equation}\n",
    "\\left\\{\n",
    "\\begin{array}{lll}\n",
    "n_{1t+1} = & \\delta ( \\theta/2 + (1-\\theta)n_{1t} ) & \\text{for } n_{t} \\in D_{LL} \\equiv \\{ (n_1, n_2) \\} \\in \\mathbb{R}_{+}^2  | n_j \\leq \\frac{1}{2} \\} \\\\ \n",
    "n_{2t+1} = & \\delta ( \\theta/2 + (1-\\theta)n_{2t} ) &  \\\\ \n",
    "n_{1t+1} = & \\delta n_{1t} & \\text{for } n_{t} \\in D_{HH} \\equiv \\{ (n_1, n_2) \\} \\in \\mathbb{R}_{+}^2  | n_j \\geq h(n_k) \\} \\\\ \n",
    "n_{2t+1} = & \\delta n_{2t} & \\\\ \n",
    "n_{1t+1} =& \\delta n_{1t} & \\text{for } n_t \\in D_{HL} \\equiv \\{ (n_1,n_2) \\in \\mathbb{R}_{+}^2 | n_1 \\geq \\frac{1}{2}; n_2 \\leq h(n_1) \\} \\\\\n",
    "n_{2t+1} = &  \\delta (\\theta h(n_{1t}) + (1-\\theta)n_{2t}) \\\\\n",
    "n_{1t+1} = &  \\delta (\\theta h(n_{2t}) + (1-\\theta)n_{1t}) & \\text{for } n_t \\in D_{LH} \\equiv \\{ (n_1,n_2) \\in \\mathbb{R}_{+}^2 | n_1 \\leq h(n_2); n_2 \\geq \\frac{1}{2} \\} \\\\\n",
    "n_{2t+1} =& \\delta n_{2t} &  \\\\\n",
    "\\end{array} \n",
    "\\right.\n",
    "\\end{equation}\n",
    "\n",
    "where $h(n)$ is defined implicitly by $\\frac{1}{h(n) + \\rho n} + \\frac{1}{h(n) + n/\\rho} = 2$.\n",
    "\n",
    "In order to solve, I create a function that receives a function $h(n)$ and simulates the system forward using the previous equation."
   ]
  },
  {
   "cell_type": "code",
   "execution_count": 1,
   "metadata": {
    "collapsed": false
   },
   "outputs": [],
   "source": [
    "using Interpolations\n",
    "using PyPlot\n",
    "using Roots"
   ]
  },
  {
   "cell_type": "code",
   "execution_count": 2,
   "metadata": {
    "collapsed": false
   },
   "outputs": [
    {
     "data": {
      "text/plain": [
       "100-element Interpolations.GriddedInterpolation{Float64,1,Float64,Interpolations.Gridded{Interpolations.Linear},Tuple{Array{Float64,1}},0}:\n",
       "   0.0232928\n",
       "  -0.909764 \n",
       "  -1.84282  \n",
       "  -2.77588  \n",
       "  -3.70893  \n",
       "  -4.64199  \n",
       "  -5.57505  \n",
       "  -6.5081   \n",
       "  -7.44116  \n",
       "  -8.37421  \n",
       "  -9.30727  \n",
       " -10.2403   \n",
       " -11.1734   \n",
       "   ⋮        \n",
       " -82.0857   \n",
       " -83.0187   \n",
       " -83.9518   \n",
       " -84.8848   \n",
       " -85.8179   \n",
       " -86.751    \n",
       " -87.684    \n",
       " -88.6171   \n",
       " -89.5501   \n",
       " -90.4832   \n",
       " -91.4162   \n",
       " -92.3493   "
      ]
     },
     "execution_count": 2,
     "metadata": {},
     "output_type": "execute_result"
    }
   ],
   "source": [
    "# define function h pointwise for each value of ρ and then define \n",
    "# the interpolation object to interpolate these functions.\n",
    "N = 100\n",
    "n = linspace(0,1,N)\n",
    "h1 = zeros(N)\n",
    "h2 = zeros(N)\n",
    "h3 = zeros(N)\n",
    "h4 = zeros(N)\n",
    "ρ = [.2, .4, .6, .8 ]\n",
    "\n",
    "for i=1:N\n",
    "    h1[i] = fzeros(x -> 1/(x+ρ[1]*n[i]) + 1/(x+n[i]/ρ[1]) - 2, 0, 1)[1]\n",
    "    h2[i] = fzeros(x -> 1/(x+ρ[2]*n[i]) + 1/(x+n[i]/ρ[2]) - 2, 0, 1)[1]\n",
    "    h3[i] = fzeros(x -> 1/(x+ρ[3]*n[i]) + 1/(x+n[i]/ρ[3]) - 2, 0, 1)[1]\n",
    "    h4[i] = fzeros(x -> 1/(x+ρ[4]*n[i]) + 1/(x+n[i]/ρ[4]) - 2, 0, 1)[1]\n",
    "end\n",
    "\n",
    "h_itp1 = interpolate((n,),h1, Gridded(Linear()))\n",
    "h_itp2 = interpolate((n,),h2, Gridded(Linear()))\n",
    "h_itp3 = interpolate((n,),h3, Gridded(Linear()))\n",
    "h_itp4 = interpolate((n,),h4, Gridded(Linear()))\n"
   ]
  },
  {
   "cell_type": "code",
   "execution_count": 3,
   "metadata": {
    "collapsed": false
   },
   "outputs": [
    {
     "data": {
      "text/plain": [
       "simulate (generic function with 1 method)"
      ]
     },
     "execution_count": 3,
     "metadata": {},
     "output_type": "execute_result"
    }
   ],
   "source": [
    "\"\"\"\n",
    "This function simulates the economy.\n",
    "It receives an initial condition (n1, n2) and the interpolation object h which defines h(n))\n",
    "The rest if the parameter of the system are set to default values.\n",
    "\"\"\"\n",
    "function simulate(n1::Float64, n2::Float64, h_itp; θ::Float64=2.5, δ::Float64=0.7, T::Int64=100)\n",
    "\n",
    "    # arrays to store the simulated time series\n",
    "    nt = zeros(2,T)     # first row for n1, and second row for n2\n",
    "    \n",
    "    # set first elements\n",
    "    nt[1,1] = n1\n",
    "    nt[2,1] = n2\n",
    "    \n",
    "    # iterate over time\n",
    "    for t=1:T-1\n",
    "        \n",
    "        if nt[1,t] <=1/2 && nt[2,t] <=1/2        # if n_t in D_{LL}\n",
    "            nt[1,t+1] = δ*(θ/2 + (1-θ)*nt[1,t])\n",
    "            nt[2,t+1] = δ*(θ/2 + (1-θ)*nt[2,t])\n",
    "            \n",
    "        else\n",
    "            \n",
    "            # find h(n1) and h(n2) to define regions D_{LL}, D_{HH} D_{HL}, D_{LH}\n",
    "            hn1 = h_itp[nt[1,t]]\n",
    "            hn2 = h_itp[nt[2,t]]\n",
    "\n",
    "            if nt[1,t] >= hn2 && nt[2,t] >= hn1  # if n_t in D_{HH}\n",
    "                nt[1,t+1] = δ*nt[1,t]\n",
    "                nt[2,t+1] = δ*nt[2,t]\n",
    "\n",
    "            elseif nt[1,t] >= 1/2 && nt[2,t] <= hn1  # if n_t in D_{HL}\n",
    "                nt[1,t+1] = δ*nt[1,t]\n",
    "                nt[2,t+1] = δ*(θ*hn1 + (1-θ)*nt[2,t])\n",
    "\n",
    "            else                                     # if n_t in D_{LH}\n",
    "                nt[1,t+1] = δ*(θ*hn2 + (1-θ)*nt[1,t])\n",
    "                nt[2,t+1] = δ*nt[2,t]\n",
    "\n",
    "            end\n",
    "\n",
    "        end\n",
    "\n",
    "    end\n",
    "    \n",
    "    return nt\n",
    "    \n",
    "end"
   ]
  },
  {
   "cell_type": "code",
   "execution_count": 4,
   "metadata": {
    "collapsed": false
   },
   "outputs": [],
   "source": [
    "# Simulate and check convergence in each point for each value of ρ.\n",
    "\n",
    "# create grid \n",
    "N = 1000\n",
    "ngrid = linspace(0,1,N)\n",
    "T = 100  # length of simulation\n",
    "t = 10   # consider last \"t\" periods to check what kind of convergence (synchronized or asynchronized)\n",
    "Z1 = eye(N)\n",
    "Z2 = eye(N)\n",
    "Z3 = eye(N)\n",
    "Z4 = eye(N)\n",
    "ρ = 0.2\n",
    "δ = .7\n",
    "\n",
    "for i = 2:N        # index for n1, n1 = ngrid[i]\n",
    "    for j = 1:i    # index for n2, n2 = ngrid[j]\n",
    "        S1 = simulate(ngrid[i], ngrid[j], h_itp1, T=T)\n",
    "        if vecnorm(S1[1,T-t+1:T]-S1[2,T-t+1:T], Inf) < (1-δ)/2\n",
    "            Z1[i,j] = 1\n",
    "            Z1[j,i] = 1\n",
    "        end\n",
    "        S2 = simulate(ngrid[i], ngrid[j], h_itp2, T=T)\n",
    "        if vecnorm(S2[1,T-t+1:T]-S2[2,T-t+1:T], Inf) < (1-δ)/2\n",
    "            Z2[i,j] = 1\n",
    "            Z2[j,i] = 1\n",
    "        end\n",
    "        S3 = simulate(ngrid[i], ngrid[j], h_itp3, T=T)\n",
    "        if vecnorm(S3[1,T-t+1:T]-S3[2,T-t+1:T], Inf) < (1-δ)/2\n",
    "            Z3[i,j] = 1\n",
    "            Z3[j,i] = 1\n",
    "        end\n",
    "        S4 = simulate(ngrid[i], ngrid[j], h_itp4, T=T)\n",
    "        if vecnorm(S4[1,T-t+1:T]-S4[2,T-t+1:T], Inf) < (1-δ)/2\n",
    "            Z4[i,j] = 1\n",
    "            Z4[j,i] = 1\n",
    "        end\n",
    "    end\n",
    "end\n",
    "\n"
   ]
  },
  {
   "cell_type": "code",
   "execution_count": 5,
   "metadata": {
    "collapsed": false
   },
   "outputs": [
    {
     "data": {
      "image/png": "[encoded data removed]",
      "text/plain": [
       "PyPlot.Figure(PyObject <matplotlib.figure.Figure object at 0x31ef5f780>)"
      ]
     },
     "metadata": {},
     "output_type": "display_data"
    },
    {
     "data": {
      "text/plain": [
       "PyObject <matplotlib.collections.QuadMesh object at 0x3207e67b8>"
      ]
     },
     "execution_count": 5,
     "metadata": {},
     "output_type": "execute_result"
    }
   ],
   "source": [
    "# Finally, plot the results.\n",
    "\n",
    "n2Dx = repmat(reshape(ngrid,1,N),N,1)\n",
    "\n",
    "fix, axes = subplots(2,2)\n",
    "axes[1,1][:pcolormesh](n2Dx, n2Dx', Z1, cmap = \"Greys\") \n",
    "axes[1,2][:pcolormesh](n2Dx, n2Dx', Z2, cmap = \"Greys\") \n",
    "axes[2,1][:pcolormesh](n2Dx, n2Dx', Z3, cmap = \"Greys\") \n",
    "axes[2,2][:pcolormesh](n2Dx, n2Dx', Z4, cmap = \"Greys\") \n",
    "\n",
    "\n"
   ]
  },
  {
   "cell_type": "code",
   "execution_count": null,
   "metadata": {
    "collapsed": true
   },
   "outputs": [],
   "source": []
  }
 ],
 "metadata": {
  "kernelspec": {
   "display_name": "Julia 0.4.3",
   "language": "julia",
   "name": "julia-0.4"
  },
  "language_info": {
   "file_extension": ".jl",
   "mimetype": "application/julia",
   "name": "julia",
   "version": "0.4.3"
  }
 },
 "nbformat": 4,
 "nbformat_minor": 0
}
